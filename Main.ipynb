{
 "cells": [
  {
   "cell_type": "code",
   "execution_count": null,
   "metadata": {},
   "outputs": [],
   "source": [
    "import yfinance as yf\n",
    "import mplfinance as mpf \n",
    "import numpy as np\n",
    "\n",
    "ticker = \"AAPL\"\n",
    "data = yf.download(ticker, start=\"2021-01-01\", end=\"2021-09-1\")\n",
    "mpf.plot(data)\n",
    "\n",
    "mpf.plot(data, type='candle')\n",
    "\n",
    "data = yf.download(ticker, start=\"2021-01-01\", end=\"2021-09-1\")\n",
    "mpf.plot(data, type='renko')\n",
    "mpf.plot(data, type='pnf')\n",
    "\n",
    "mpf.plot(data, type='candle', mav=8)\n",
    "mpf.plot(data, type='candle', mav=(8, 20, 50))\n",
    "mpf.plot(data, type='candle', mav=(8, 20, 50), volume=True)\n",
    "\n",
    "\n",
    "data['MA20'] = data['Adj Close'].rolling(20).mean()\n",
    "data['MA50'] = data['Adj Close'].rolling(50).mean()\n",
    "data = data.dropna()\n",
    "\n",
    "buy_signals = []\n",
    "sell_signals = []\n",
    "\n",
    "for i in range(len(data)):\n",
    "    if (data['MA20'].iloc[i] > data['MA50'].iloc[i]) and (data['MA20'].iloc[i-1] < data['MA50'].iloc[i-1]):\n",
    "        buy_signals.append(data.iloc[i]['Adj Close'] * 0.98)\n",
    "    else:\n",
    "        buy_signals.append(np.nan)\n",
    "    \n",
    "    if (data['MA20'].iloc[i] < data['MA50'].iloc[i]) and (data['MA20'].iloc[i-1] > data['MA50'].iloc[i-1]):\n",
    "        sell_signals.append(data.iloc[i]['Adj Close'] * 1.02)\n",
    "    else:\n",
    "        sell_signals.append(np.nan)\n",
    "\n",
    "buy_markers = mpf.make_addplot(buy_signals, type='scatter', markersize=120, marker='^')\n",
    "sell_markers = mpf.make_addplot(sell_signals, type='scatter', markersize=120, marker='v')\n",
    "apds = [buy_markers, sell_markers]\n",
    "mpf.plot(data, type=\"candle\", addplot=apds)"
   ]
  }
 ],
 "metadata": {
  "language_info": {
   "name": "python"
  },
  "orig_nbformat": 4
 },
 "nbformat": 4,
 "nbformat_minor": 2
}
